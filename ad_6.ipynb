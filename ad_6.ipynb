{
  "nbformat": 4,
  "nbformat_minor": 0,
  "metadata": {
    "colab": {
      "provenance": []
    },
    "kernelspec": {
      "name": "python3",
      "display_name": "Python 3"
    },
    "language_info": {
      "name": "python"
    }
  },
  "cells": [
    {
      "cell_type": "code",
      "execution_count": 1,
      "metadata": {
        "colab": {
          "base_uri": "https://localhost:8080/"
        },
        "id": "POhdGViYBqCe",
        "outputId": "d98a23bc-2e66-4da0-e21c-1561ef2864b0"
      },
      "outputs": [
        {
          "output_type": "stream",
          "name": "stderr",
          "text": [
            "[nltk_data] Downloading package stopwords to /root/nltk_data...\n",
            "[nltk_data]   Unzipping corpora/stopwords.zip.\n",
            "[nltk_data] Downloading package punkt to /root/nltk_data...\n",
            "[nltk_data]   Unzipping tokenizers/punkt.zip.\n"
          ]
        },
        {
          "output_type": "stream",
          "name": "stdout",
          "text": [
            "Filtered Tokens: ['natural', 'language', 'processing', 'python', 'amazing', '!']\n"
          ]
        }
      ],
      "source": [
        "import nltk\n",
        "import spacy\n",
        "from nltk.corpus import stopwords\n",
        "\n",
        "# Download the stopwords list if not already downloaded\n",
        "nltk.download('stopwords')\n",
        "nltk.download('punkt')\n",
        "\n",
        "# Load SpaCy's language model\n",
        "nlp = spacy.load(\"en_core_web_sm\")\n",
        "\n",
        "def process_text(text):\n",
        "    # Convert text to lowercase\n",
        "    text_lower = text.lower()\n",
        "\n",
        "    # Tokenize text using SpaCy\n",
        "    doc = nlp(text_lower)\n",
        "\n",
        "    # Get the list of NLTK stopwords\n",
        "    nltk_stopwords = set(stopwords.words('english'))\n",
        "\n",
        "    # Remove stopwords\n",
        "    filtered_tokens = [token.text for token in doc if token.text not in nltk_stopwords]\n",
        "\n",
        "    return filtered_tokens\n",
        "\n",
        "# Example text\n",
        "text = \"Natural Language Processing with Python is amazing!\"\n",
        "result = process_text(text)\n",
        "print(\"Filtered Tokens:\", result)"
      ]
    }
  ]
}