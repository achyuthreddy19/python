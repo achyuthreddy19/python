{
  "nbformat": 4,
  "nbformat_minor": 0,
  "metadata": {
    "colab": {
      "provenance": []
    },
    "kernelspec": {
      "name": "python3",
      "display_name": "Python 3"
    },
    "language_info": {
      "name": "python"
    }
  },
  "cells": [
    {
      "cell_type": "code",
      "execution_count": 1,
      "metadata": {
        "colab": {
          "base_uri": "https://localhost:8080/"
        },
        "id": "BH6CoDdRDQxr",
        "outputId": "8cece618-6ad4-46cf-c9b7-a80f7c1844cc"
      },
      "outputs": [
        {
          "output_type": "stream",
          "name": "stderr",
          "text": [
            "[nltk_data] Downloading package stopwords to /root/nltk_data...\n",
            "[nltk_data]   Unzipping corpora/stopwords.zip.\n",
            "[nltk_data] Downloading package punkt to /root/nltk_data...\n",
            "[nltk_data]   Unzipping tokenizers/punkt.zip.\n"
          ]
        },
        {
          "output_type": "stream",
          "name": "stdout",
          "text": [
            "Filtered Tokens (SpaCy & NLTK): ['natural', 'language', 'processing', 'python', 'amazing', '!']\n",
            "Filtered Tokens (Gensim): ['natur', 'languag', 'process', 'python', 'amaz']\n"
          ]
        }
      ],
      "source": [
        "import nltk\n",
        "import spacy\n",
        "from nltk.corpus import stopwords\n",
        "from gensim.parsing.preprocessing import STOPWORDS, preprocess_string, strip_punctuation, strip_numeric\n",
        "from gensim.utils import simple_preprocess\n",
        "from nltk.stem import PorterStemmer\n",
        "\n",
        "# Download the stopwords list if not already downloaded\n",
        "nltk.download('stopwords')\n",
        "nltk.download('punkt')\n",
        "\n",
        "# Load SpaCy's language model\n",
        "nlp = spacy.load(\"en_core_web_sm\")\n",
        "\n",
        "# Initialize the NLTK stemmer\n",
        "stemmer = PorterStemmer()\n",
        "\n",
        "def preprocess_with_gensim(text):\n",
        "    # Convert text to lowercase and preprocess with Gensim\n",
        "    custom_filters = [strip_punctuation, strip_numeric]\n",
        "    tokens = preprocess_string(text.lower(), custom_filters)\n",
        "\n",
        "    # Remove stopwords using Gensim's STOPWORDS\n",
        "    filtered_tokens = [token for token in tokens if token not in STOPWORDS]\n",
        "\n",
        "    # Apply stemming using NLTK\n",
        "    stemmed_tokens = [stemmer.stem(token) for token in filtered_tokens]\n",
        "\n",
        "    return stemmed_tokens\n",
        "\n",
        "def process_text(text):\n",
        "    # Convert text to lowercase\n",
        "    text_lower = text.lower()\n",
        "\n",
        "    # Tokenize text using SpaCy\n",
        "    doc = nlp(text_lower)\n",
        "\n",
        "    # Get the list of NLTK stopwords\n",
        "    nltk_stopwords = set(stopwords.words('english'))\n",
        "\n",
        "    # Remove stopwords\n",
        "    filtered_tokens = [token.text for token in doc if token.text not in nltk_stopwords]\n",
        "\n",
        "    return filtered_tokens\n",
        "\n",
        "# Example text\n",
        "text = \"Natural Language Processing with Python is amazing!\"\n",
        "\n",
        "# Process text with SpaCy and NLTK\n",
        "result_spacy = process_text(text)\n",
        "print(\"Filtered Tokens (SpaCy & NLTK):\", result_spacy)\n",
        "\n",
        "# Process text with Gensim\n",
        "result_gensim = preprocess_with_gensim(text)\n",
        "print(\"Filtered Tokens (Gensim):\", result_gensim)\n"
      ]
    }
  ]
}